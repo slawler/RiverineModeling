{
 "cells": [
  {
   "cell_type": "markdown",
   "metadata": {},
   "source": [
    "# Create .mod file for HEC-HMS\n",
    "\n",
    "### Procedure:\n",
    "    1. Assign File Names & Paths\n",
    "    2. Read in input data\n",
    "    3. Get list of unique Subbasins\n",
    "    4. Assign Standard & Model Specific Variables\n",
    "    5. Write the file"
   ]
  },
  {
   "cell_type": "code",
   "execution_count": null,
   "metadata": {
    "collapsed": true
   },
   "outputs": [],
   "source": [
    "#---Required python modules\n",
    "import pandas as pd\n",
    "import os"
   ]
  },
  {
   "cell_type": "markdown",
   "metadata": {},
   "source": [
    "#### Assign Directory & Path Names"
   ]
  },
  {
   "cell_type": "code",
   "execution_count": null,
   "metadata": {
    "collapsed": true
   },
   "outputs": [],
   "source": [
    "wdir = r\"C:\\Users\\slawler\\Documents\\LAMP\\TEMP\" # File Directory\n",
    "hrap_to_hms_table = 'HRAP_for_HMS.txt'         # Table from ArcGIS\n",
    "hms_model = 'HecModel'                         # Name of HMS model"
   ]
  },
  {
   "cell_type": "markdown",
   "metadata": {},
   "source": [
    "#### Read in data, check formatting"
   ]
  },
  {
   "cell_type": "code",
   "execution_count": null,
   "metadata": {
    "collapsed": false
   },
   "outputs": [],
   "source": [
    "f = os.path.join(wdir,hrap_to_hms_table ) # Create a full path to the file\n",
    "df = pd.read_csv(f, sep = ',')            # Read in data         \n",
    "df.head()                                 # Take a look at the first few rows of data in the dataframe  "
   ]
  },
  {
   "cell_type": "markdown",
   "metadata": {},
   "source": [
    "#### Get List of Unique Subbasins & Assign Model Specific Variables"
   ]
  },
  {
   "cell_type": "code",
   "execution_count": null,
   "metadata": {
    "collapsed": false
   },
   "outputs": [],
   "source": [
    "Subbasin = 'Name'        # Column name of the Subbasins \n",
    "hrap_x   = 'X_int'       # Column name of the HRAP X GridCell \n",
    "hrap_y   = 'Y_int'       # Column name of the HRAP Y GridCell\n",
    "area     = 'Area_sqkm'   # Column name of the Area in Square Kilometers\n",
    "\n",
    "subs = df[Subbasin].unique() # Unique Subbasins dissolved during intersect w/HRAP grid\n",
    "print(\"Subbasin: \" + subs) "
   ]
  },
  {
   "cell_type": "markdown",
   "metadata": {},
   "source": [
    "#### Assign standard variables to write formatted data to file "
   ]
  },
  {
   "cell_type": "code",
   "execution_count": null,
   "metadata": {
    "collapsed": true
   },
   "outputs": [],
   "source": [
    "#---No Changes here: Standard Formatting for HEC-HMS\n",
    "\n",
    "header = 'Parameter Order: Xcoord Ycoord TravelLength Area'\n",
    "trvlng = '1.00000000000000000'\n",
    "space = ' '\n",
    "init = '     GridCell: '\n",
    "end = 'End: \\n'\n",
    "subbasin = 'Subbasin: '"
   ]
  },
  {
   "cell_type": "markdown",
   "metadata": {},
   "source": [
    "#### Write .mod file"
   ]
  },
  {
   "cell_type": "code",
   "execution_count": null,
   "metadata": {
    "collapsed": true
   },
   "outputs": [],
   "source": [
    "modfile = os.path.join(wdir, hms_model + '.mod')\n",
    "\n",
    "with open(modfile,'w') as f:\n",
    "    for i, s in enumerate(subs):\n",
    "        if i == 0:\n",
    "            f.write(header + '\\n')\n",
    "            f.write(end)\n",
    "        idx = df.ix[df[Subbasin] == s].index.tolist()\n",
    "        f.write('\\n'+subbasin+ s + '\\n')\n",
    "        for j in idx:\n",
    "            basin = df[Subbasin].iloc[j]\n",
    "            x = df[hrap_x].iloc[j]\n",
    "            y = df[hrap_y ].iloc[j]\n",
    "            a = df[area].iloc[j]\n",
    "            line = init + str(x) +space+ str(y) +space+ trvlng +space+ str(a)\n",
    "            f.write(line + '\\n')\n",
    "        f.write(end)"
   ]
  }
 ],
 "metadata": {
  "kernelspec": {
   "display_name": "Python 2",
   "language": "python",
   "name": "python2"
  },
  "language_info": {
   "codemirror_mode": {
    "name": "ipython",
    "version": 2
   },
   "file_extension": ".py",
   "mimetype": "text/x-python",
   "name": "python",
   "nbconvert_exporter": "python",
   "pygments_lexer": "ipython2",
   "version": "2.7.11"
  }
 },
 "nbformat": 4,
 "nbformat_minor": 0
}
